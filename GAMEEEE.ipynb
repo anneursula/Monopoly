{
 "cells": [
  {
   "cell_type": "code",
   "execution_count": 1,
   "metadata": {},
   "outputs": [],
   "source": [
    "#include \"Spielbrett.hpp\""
   ]
  },
  {
   "cell_type": "code",
   "execution_count": 2,
   "metadata": {},
   "outputs": [],
   "source": [
    "SVG brett = SVG(1000,1000);"
   ]
  },
  {
   "cell_type": "code",
   "execution_count": 3,
   "metadata": {},
   "outputs": [],
   "source": [
    "brett.drawText(\"Monopolyy\",10,-10,40);"
   ]
  },
  {
   "cell_type": "code",
   "execution_count": 4,
   "metadata": {},
   "outputs": [
    {
     "name": "stdout",
     "output_type": "stream",
     "text": [
      "Wie viele Spieler spielen? 3\n"
     ]
    }
   ],
   "source": [
    "int spieleranzahl = 0;\n",
    "do{\n",
    "    cout<<\"Wie viele Spieler spielen? \";\n",
    "    cin>>spieleranzahl;\n",
    "}while(spieleranzahl < 1 || spieleranzahl >4);"
   ]
  },
  {
   "cell_type": "code",
   "execution_count": 5,
   "metadata": {},
   "outputs": [],
   "source": [
    "Spielbrett spielbrett = Spielbrett(spieleranzahl, &brett);\n",
    "list<Spieler*> spieler = spielbrett.getSpielerListe();\n",
    "\n",
    "Text txt = Text();\n",
    "string key = \"\";\n",
    "//last key - W zum würfeln \n",
    "// neue funktion aufrufen (while-do) "
   ]
  },
  {
   "cell_type": "code",
   "execution_count": 6,
   "metadata": {},
   "outputs": [],
   "source": [
    "bool kaufen(Spieler *spieler, Straße *straße){\n",
    "    \n",
    "    //Funktion zum kaufen einer Straße\n",
    "    //return wert ist nur fürs frühzeitige abbrechen da, falls 'n' eingegeben wurde\n",
    "    \n",
    "    AlgoViz::sendText(\"möchtest du diese Straße kaufen? 'j'/'n'?\");\n",
    "    key = brett.lastKey(); \n",
    "    \n",
    "    while(key != \"j\" && key != \"n\"){\n",
    "        key = brett.lastKey();\n",
    "    }\n",
    "    \n",
    "    if(key == \"n\"){\n",
    "         return false;\n",
    "    }\n",
    "    else{\n",
    "        \n",
    "        if(spieler->kaufenMoeglich(*straße)){\n",
    "            spieler->straßeKaufen(*straße);\n",
    "            AlgoViz::sendText(\"die Straße wurde erfolgreich gekauft!\"); \n",
    "            AlgoViz::sleep(3000);\n",
    "            \n",
    "            // hier dann noch die Farbe der Straße verändern\n",
    "            \n",
    "            return true; \n",
    "        }\n",
    "        else{\n",
    "            AlgoViz::sendText(\"du hast nicht genug Geld um diese Straße zu kaufen\");\n",
    "            AlgoViz::sleep(3000);\n",
    "            \n",
    "            //Hypothek? \n",
    "            \n",
    "            return false; \n",
    "        }\n",
    "        \n",
    "        \n",
    "    }    \n",
    "}"
   ]
  },
  {
   "cell_type": "code",
   "execution_count": 7,
   "metadata": {},
   "outputs": [],
   "source": [
    "bool zahlen(Spieler *s, Straße *straße){\n",
    "    \n",
    "    AlgoViz::sendText(\"du bist auf jemand anderes Straße gelandet!\");\n",
    "    AlgoViz::sleep(3000);\n",
    "    \n",
    "    //zahlen bestimmt nachher spiel und damit den Spielabbruch\n",
    "    \n",
    "    bool zahlen = false; \n",
    "    \n",
    "    for(Spieler* s2: spieler){\n",
    "        if(s2 ->besitzeStraße(*straße)){\n",
    "            //prüfe ob wir überhaupt Miete zahlen können \n",
    "            \n",
    "            zahlen = s->getKapital()>straße->getMiete();\n",
    "            \n",
    "            if(zahlen){\n",
    "                //falls ja:\n",
    "                \n",
    "                s->mieteZahlen(*s2, straße->getMiete());\n",
    "                int miete = straße->getMiete();\n",
    "\n",
    "                AlgoViz::sendText(\"du musstest \"+ to_string(miete) +\" zahlen\");\n",
    "                AlgoViz::sleep(3000);\n",
    "            }\n",
    "            \n",
    "            //falls nein: \n",
    "            \n",
    "            else{\n",
    "                AlgoViz::sendText(\"du kannst dir die Miete leider nicht leisten-Game Over!\");\n",
    "                }\n",
    "           \n",
    "            }\n",
    "        \n",
    "    }\n",
    "    return zahlen;\n",
    "}"
   ]
  },
  {
   "cell_type": "code",
   "execution_count": 8,
   "metadata": {},
   "outputs": [],
   "source": [
    "bool Spielzug(Spieler *spieler, Spielbrett &spielbrett){\n",
    "    \n",
    "    //bool um das Spiel zu beenden\n",
    "    bool spiel = false;  \n",
    "    \n",
    "    string name = spieler->getName() + \" ist am Zug\";\n",
    "    AlgoViz::sendText(name);   \n",
    "    AlgoViz::sleep(3000);\n",
    "    \n",
    "    //mehr Interaktion\n",
    "    AlgoViz::sendText(\"um zu würfeln, drücke 'w'!\");\n",
    "    key = brett.lastKey();\n",
    "    \n",
    "    while(key != \"w\"){\n",
    "        key = brett.lastKey(); \n",
    "    }\n",
    "    \n",
    "    int wuerfel = spieler->wuerfeln();\n",
    "    AlgoViz::sendText(\"du hast eine \"+ to_string(wuerfel)+\" gewürfelt\"); \n",
    "    AlgoViz::sleep(2000);\n",
    "    spielbrett.laufen(*spieler, wuerfel); \n",
    "    \n",
    "    Straße* str = spielbrett.getStraße(spieler->getFeldPos()); \n",
    "    string street = \"du bist auf \" + str->getName() + \" gelandet!\"; \n",
    "    AlgoViz::sendText(street);\n",
    "    AlgoViz::sleep(3000);\n",
    "    \n",
    "    bool verkauft = str->getVerkauft();\n",
    "    \n",
    "    if(!verkauft){\n",
    "        //nochmal einzelne Funktionen fürs kaufen und zahlen     \n",
    "        kaufen(spieler, str);\n",
    "    }\n",
    "    else{\n",
    "        spiel = zahlen(spieler, str);\n",
    "    }\n",
    "    \n",
    "    return spiel;\n",
    "    \n",
    "}\n"
   ]
  },
  {
   "cell_type": "code",
   "execution_count": null,
   "metadata": {},
   "outputs": [],
   "source": [
    "    //main programm// \n",
    "\n",
    "bool spielEnde = false;\n",
    "int i = 0;\n",
    "\n",
    "while(!spielEnde){\n",
    "    for(Spieler* s: spieler){\n",
    "        spielEnde = Spielzug(s, spielbrett);\n",
    "        AlgoViz::sendText(\"um weiter zu spielen, drücke 'c'\"); \n",
    "        key = brett.lastKey();\n",
    "    \n",
    "        while(key!=\"c\"){\n",
    "            key = brett.lastKey();\n",
    "        }\n",
    "    }\n",
    "}\n",
    "\n",
    "\n"
   ]
  }
 ],
 "metadata": {
  "kernelspec": {
   "display_name": "C++17",
   "language": "C++17",
   "name": "xcpp17"
  },
  "language_info": {
   "codemirror_mode": "text/x-c++src",
   "file_extension": ".cpp",
   "mimetype": "text/x-c++src",
   "name": "c++",
   "version": "17"
  }
 },
 "nbformat": 4,
 "nbformat_minor": 4
}
