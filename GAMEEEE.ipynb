{
 "cells": [
  {
   "cell_type": "code",
   "execution_count": 1,
   "metadata": {
    "scrolled": false
   },
   "outputs": [],
   "source": [
    "#include \"Spielbrett.hpp\""
   ]
  },
  {
   "cell_type": "code",
   "execution_count": 2,
   "metadata": {},
   "outputs": [],
   "source": [
    "SVG brett = SVG(1000,1000);"
   ]
  },
  {
   "cell_type": "code",
   "execution_count": 3,
   "metadata": {},
   "outputs": [],
   "source": [
    "brett.drawText(\"Monopoly\",130,-150,40);"
   ]
  },
  {
   "cell_type": "code",
   "execution_count": 4,
   "metadata": {},
   "outputs": [
    {
     "name": "stdout",
     "output_type": "stream",
     "text": [
      "Wie viele Spieler spielen? 1\n"
     ]
    }
   ],
   "source": [
    "int spieleranzahl = 0;\n",
    "do{\n",
    "    cout<<\"Wie viele Spieler spielen? \";\n",
    "    cin>>spieleranzahl;\n",
    "}while(spieleranzahl < 1 || spieleranzahl >4);"
   ]
  },
  {
   "cell_type": "code",
   "execution_count": 5,
   "metadata": {},
   "outputs": [],
   "source": [
    "Spielbrett spielbrett = Spielbrett(spieleranzahl, &brett);\n",
    "list<Spieler*> spieler = spielbrett.getSpielerListe();\n",
    "\n",
    "Text txt = Text();\n",
    "string key = \"\";\n",
    "//last key - W zum würfeln \n",
    "// neue funktion aufrufen (while-do) "
   ]
  },
  {
   "cell_type": "code",
   "execution_count": 6,
   "metadata": {},
   "outputs": [
    {
     "name": "stdout",
     "output_type": "stream",
     "text": [
      "gebt euch namen!\n",
      "a\n"
     ]
    }
   ],
   "source": [
    "cout << \"gebt euch namen!\\n\"; \n",
    "string name = \"\";\n",
    "for(Spieler* s: spieler){\n",
    "    cin >> name; \n",
    "    s->setName(name); \n",
    "}"
   ]
  },
  {
   "cell_type": "code",
   "execution_count": 9,
   "metadata": {},
   "outputs": [],
   "source": [
    "void hypothek(Spieler &s){\n",
    "    AlgoViz::sendText(\"möchtest du eine Hypothek aufnehmen? (j / n)\"); \n",
    "    AlgoViz::sleep(3000);\n",
    "    vector streets = s.getStreets();    \n",
    "    string allStr = \"\";\n",
    "    \n",
    "    key = brett.lastKey();\n",
    "    \n",
    "    while(key != \"j\" && key != \"n\"){\n",
    "        key = brett.lastKey();\n",
    "    }\n",
    "    \n",
    "    if(key == \"j\"){\n",
    "        allStr = \"für welche deiner Straßen möchtest du eine H aufnehmen?\";          \n",
    "        brett.drawText(allStr, 300, -100, 20); //irgendeine idee, wie man diesen text wieder löschen kann? \n",
    "        for(Straße *str: streets){\n",
    "             \n",
    "            //wieso funzt das hier nicht? :( \n",
    "            cout << str->getName() << \"\\n\";\n",
    "            }\n",
    "        \n",
    "        /* \n",
    "        dann soll man eine nummer eingeben und es soll \n",
    "        \n",
    "        s.HypothekAufnehmen(aufEbenDieserStraße);\n",
    "        \n",
    "        aufgerufen werden... \n",
    "        */\n",
    "        \n",
    "    }\n",
    "    \n",
    "    txt = Text(\"\", 0,0,&brett);\n",
    "}"
   ]
  },
  {
   "cell_type": "code",
   "execution_count": 10,
   "metadata": {},
   "outputs": [],
   "source": [
    "void kaufen(Spieler &spieler, Straße &straße){\n",
    "    \n",
    "    //Funktion zum kaufen einer Straße\n",
    "    \n",
    "    AlgoViz::sendText(\"möchtest du diese Straße kaufen? 'j' / 'n'?\");\n",
    "    key = brett.lastKey(); \n",
    "    \n",
    "    while(key != \"j\" && key != \"n\"){\n",
    "        key = brett.lastKey();\n",
    "    }\n",
    "    \n",
    "    if(key == \"j\"){   \n",
    "        hypothek(spieler); //steht nur zum testen hier oben! \n",
    "\n",
    "        if(spieler.kaufenMoeglich(straße)){\n",
    "            spieler.straßeKaufen(straße);\n",
    "            AlgoViz::sendText(\"die Straße wurde erfolgreich gekauft!\"); \n",
    "            AlgoViz::sleep(3000);\n",
    "            \n",
    "        }\n",
    "        else{\n",
    "            AlgoViz::sendText(\"du hast nicht genug Geld um diese Straße zu kaufen\");\n",
    "            AlgoViz::sleep(3000);\n",
    "            \n",
    "\n",
    "        }\n",
    "        \n",
    "        \n",
    "    }    \n",
    "}"
   ]
  },
  {
   "cell_type": "code",
   "execution_count": 11,
   "metadata": {},
   "outputs": [],
   "source": [
    "bool zahlen(Spieler &s, Straße &straße){\n",
    "    \n",
    "    AlgoViz::sendText(\"du bist auf jemand anderes Straße gelandet!\");\n",
    "    AlgoViz::sleep(3000);\n",
    "    \n",
    "    //zahlen bestimmt nachher spiel und damit den Spielabbruch\n",
    "    \n",
    "    bool zahlen = false; \n",
    "    \n",
    "    for(Spieler* s2: spieler){\n",
    "        if(s2->besitzeStraße(straße)){\n",
    "            //prüfe ob wir überhaupt Miete zahlen können \n",
    "                        \n",
    "            if(s2->mieteZahlenMoeglich(straße)){\n",
    "                //falls ja:\n",
    "                \n",
    "                s.mieteZahlen(*s2, straße.getMiete());\n",
    "                int miete = straße.getMiete();\n",
    "\n",
    "                AlgoViz::sendText(\"du musstest \"+ to_string(miete) +\" zahlen\");\n",
    "                AlgoViz::sleep(3000);\n",
    "            }\n",
    "            \n",
    "            //falls nein: \n",
    "            else{\n",
    "                AlgoViz::sendText(\"du kannst dir die Miete leider nicht leisten - Game Over!\");\n",
    "                AlgoViz::sleep(5000); \n",
    "                }\n",
    "           \n",
    "            } \n",
    "    }\n",
    "    \n",
    "    return zahlen;\n",
    "}"
   ]
  },
  {
   "cell_type": "code",
   "execution_count": 15,
   "metadata": {},
   "outputs": [],
   "source": [
    "bool spielzug(Spieler &spieler, Spielbrett &spielbrett){\n",
    "    \n",
    "    //bool um das Spiel zu beenden\n",
    "    bool spiel = false;  \n",
    "    \n",
    "    string name = spieler.getName() + \" ist am Zug\";\n",
    "    AlgoViz::sendText(name);   \n",
    "    AlgoViz::sleep(3000);\n",
    "    \n",
    "    //mehr Interaktion\n",
    "    AlgoViz::sendText(\"um zu würfeln, drücke 'w'!\");\n",
    "    key = brett.lastKey();\n",
    "    \n",
    "    while(key != \"w\"){\n",
    "        key = brett.lastKey(); \n",
    "    }\n",
    "    \n",
    "    int wuerfel = spieler.wuerfeln();\n",
    "    AlgoViz::sendText(\"du hast eine \"+ to_string(wuerfel)+\" gewürfelt\"); \n",
    "    AlgoViz::sleep(2000);\n",
    "    spielbrett.laufen(spieler, wuerfel); \n",
    "    \n",
    "    Straße* str = spielbrett.getStraße(spieler.getFeldPos()); \n",
    "    string street = \"du bist auf \" + str->getName() + \" gelandet!\"; \n",
    "    AlgoViz::sendText(street);\n",
    "    AlgoViz::sleep(3000);\n",
    "    \n",
    "    bool verkauft = str->getVerkauft();\n",
    "    \n",
    "    if(!verkauft){\n",
    "        //nochmal einzelne Funktionen fürs kaufen und zahlen     \n",
    "        kaufen(spieler, *str);\n",
    "    }\n",
    "    \n",
    "    else if(!spieler.besitzeStraße(*str)){\n",
    "        spiel = zahlen(spieler, *str);\n",
    "    }\n",
    "    \n",
    "    return spiel;\n",
    "    \n",
    "}\n"
   ]
  },
  {
   "cell_type": "code",
   "execution_count": 13,
   "metadata": {},
   "outputs": [
    {
     "name": "stdout",
     "output_type": "stream",
     "text": [
      "EUSTON ROAD\n"
     ]
    }
   ],
   "source": [
    "    //main programm// \n",
    "\n",
    "bool spielEnde = false;\n",
    "int i = 0;\n",
    "\n",
    "while(!spielEnde){\n",
    "    for(Spieler* s: spieler){\n",
    "        i++;\n",
    "        \n",
    "        spielEnde = spielzug(*s, spielbrett);\n",
    "        \n",
    "        AlgoViz::sendText(\"um weiter zu spielen, drücke 'c'\"); \n",
    "        key = brett.lastKey();\n",
    "       \n",
    "    \n",
    "        while(key!=\"c\"){\n",
    "            key = brett.lastKey();\n",
    "        }\n",
    "        //ZUM TESTEN\n",
    "        if(i>1){\n",
    "            spielEnde = true;\n",
    "        }\n",
    "    }\n",
    "}\n",
    "\n",
    "//Ruft Destruktoren für Spieler und Straßen auf\n",
    "// spielbrett.deleteSpielerStraßen();\n",
    "// brett.clear();\n",
    "\n",
    "\n",
    "\n"
   ]
  },
  {
   "cell_type": "code",
   "execution_count": 14,
   "metadata": {},
   "outputs": [],
   "source": [
    "?SVG"
   ]
  },
  {
   "cell_type": "code",
   "execution_count": null,
   "metadata": {},
   "outputs": [],
   "source": []
  },
  {
   "cell_type": "code",
   "execution_count": null,
   "metadata": {},
   "outputs": [],
   "source": []
  }
 ],
 "metadata": {
  "kernelspec": {
   "display_name": "C++17",
   "language": "C++17",
   "name": "xcpp17"
  },
  "language_info": {
   "codemirror_mode": "text/x-c++src",
   "file_extension": ".cpp",
   "mimetype": "text/x-c++src",
   "name": "c++",
   "version": "17"
  }
 },
 "nbformat": 4,
 "nbformat_minor": 4
}
