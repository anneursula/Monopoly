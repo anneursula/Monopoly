{
 "cells": [
  {
   "cell_type": "code",
   "execution_count": 1,
   "metadata": {},
   "outputs": [],
   "source": [
    "#include \"Spielbrett.hpp\""
   ]
  },
  {
   "cell_type": "code",
   "execution_count": 2,
   "metadata": {},
   "outputs": [],
   "source": [
    "SVG brett = SVG(1000,1000);"
   ]
  },
  {
   "cell_type": "code",
   "execution_count": 3,
   "metadata": {},
   "outputs": [],
   "source": [
    "brett.drawText(\"Monopolyy\",10,-10,40);"
   ]
  },
  {
   "cell_type": "code",
   "execution_count": 4,
   "metadata": {},
   "outputs": [
    {
     "name": "stdout",
     "output_type": "stream",
     "text": [
      "Wie viele Spieler spielen? 4\n"
     ]
    }
   ],
   "source": [
    "int spieleranzahl = 0;\n",
    "do{\n",
    "    cout<<\"Wie viele Spieler spielen? \";\n",
    "    cin>>spieleranzahl;\n",
    "}while(spieleranzahl < 1 || spieleranzahl >4);"
   ]
  },
  {
   "cell_type": "code",
   "execution_count": 5,
   "metadata": {},
   "outputs": [],
   "source": [
    "Spielbrett spielbrett = Spielbrett(spieleranzahl, &brett);\n",
    "list<Spieler*> spieler = spielbrett.getSpielerListe();"
   ]
  },
  {
   "cell_type": "code",
   "execution_count": null,
   "metadata": {},
   "outputs": [],
   "source": [
    "bool spielende = false;\n",
    "int i = 0;\n",
    "\n",
    "while(!spielende){\n",
    "   for(Spieler* s: spieler){\n",
    "        cout<<s->getName() << \" du bist dran!\\n\";\n",
    "        int wuerfel = spielbrett.wuerfeln();\n",
    "        cout<<s->getName() << \" du hast eine \"<< wuerfel<< \" gewuerfelt!\\n\";\n",
    "        spielbrett.laufen(*s, wuerfel);\n",
    "        Straße* str = spielbrett.getStraße(s ->getFeldPos());\n",
    "        cout<<s->getName() << \" du bist auf der Straße \" << str->getName() << \" gelandet! \\n\";\n",
    "       \n",
    "        bool verkauft = str -> getVerkauft();\n",
    "        \n",
    "       if(!verkauft){\n",
    "           do{\n",
    "            \n",
    "            cout<<\"Die Straße gehört noch niemanden. Möchtest du die Strasse kaufen? Ja = 1; Nein = 2 \\n\";\n",
    "            cin>>i;\n",
    "        }while((i > 2) or (i<1) );\n",
    "           // Spieler will kaufen\n",
    "           if(s->kaufenMoeglich(*str)){\n",
    "               s->straßeKaufen(*str);\n",
    "               cout<<\"Straße erfolgreich gekauft! \\n\";\n",
    "           }else{\n",
    "               cout<<\"Du hast nicht genug Geld, um die Straße zu kaufen\\n\";\n",
    "           }\n",
    "           //Wenn Straße verkauft ist.\n",
    "       }else{\n",
    "           //finde Besitzer heraus. Bisschen aufwändig :D\n",
    "           //Hypotheken Bums fehlt noch\n",
    "           if(s->kaufenMoeglich(*str)){\n",
    "               for(Spieler* s2: spieler){\n",
    "                   if(s2 ->besitzeStraße(*str)){\n",
    "                       s->mieteZahlen(*s2, str->getMiete());\n",
    "                   }\n",
    "               }\n",
    "           }else{\n",
    "               brett.drawText(s->getName() + \" hat verloren!/n\",10,-10,40);\n",
    "               spielende = true;\n",
    "           }\n",
    "       }\n",
    "        spielende = true;\n",
    "\n",
    "    }  \n",
    "}\n",
    "\n"
   ]
  }
 ],
 "metadata": {
  "kernelspec": {
   "display_name": "C++17",
   "language": "C++17",
   "name": "xcpp17"
  },
  "language_info": {
   "codemirror_mode": "text/x-c++src",
   "file_extension": ".cpp",
   "mimetype": "text/x-c++src",
   "name": "c++",
   "version": "17"
  }
 },
 "nbformat": 4,
 "nbformat_minor": 4
}
